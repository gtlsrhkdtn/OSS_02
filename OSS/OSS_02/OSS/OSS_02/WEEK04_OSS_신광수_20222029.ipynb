{
  "nbformat": 4,
  "nbformat_minor": 0,
  "metadata": {
    "colab": {
      "provenance": []
    },
    "kernelspec": {
      "name": "python3",
      "display_name": "Python 3"
    },
    "language_info": {
      "name": "python"
    }
  },
  "cells": [
    {
      "cell_type": "code",
      "execution_count": 3,
      "metadata": {
        "id": "Uy3-y9_VEhCe",
        "colab": {
          "base_uri": "https://localhost:8080/"
        },
        "outputId": "93c72e5c-c66f-4101-b781-44d722b3ab1a"
      },
      "outputs": [
        {
          "output_type": "stream",
          "name": "stdout",
          "text": [
            "[36, 42, 38, 33, 64]\n"
          ]
        }
      ],
      "source": [
        "#1\n",
        "\n",
        "symbols = \"$*&!@\"\n",
        "codes = []\n",
        "\n",
        "for symbol in symbols:\n",
        "  codes.append(ord(symbol))\n",
        "\n",
        "print(codes)"
      ]
    },
    {
      "cell_type": "code",
      "source": [
        "#2\n",
        "\n",
        "symbols = \"$*&!@\"\n",
        "\n",
        "codes = [ord(symbol) for symbol in symbols]\n",
        "\n",
        "print(codes)"
      ],
      "metadata": {
        "colab": {
          "base_uri": "https://localhost:8080/"
        },
        "id": "L_ypWcOCPBGm",
        "outputId": "d67e624d-0f03-4eec-a84f-6baf293e3a5f"
      },
      "execution_count": 5,
      "outputs": [
        {
          "output_type": "stream",
          "name": "stdout",
          "text": [
            "[36, 42, 38, 33, 64]\n"
          ]
        }
      ]
    },
    {
      "cell_type": "code",
      "source": [
        "#3\n",
        "\n",
        "x = '\"!~$$*&!@'\n",
        "dummy = [ord(x) for x in x]\n",
        "\n",
        "print(x)\n",
        "print(dummy)"
      ],
      "metadata": {
        "colab": {
          "base_uri": "https://localhost:8080/"
        },
        "id": "Ku-CKP_0PQbC",
        "outputId": "3c38bc48-b73e-4e1e-c3f9-2291ba453b3c"
      },
      "execution_count": 7,
      "outputs": [
        {
          "output_type": "stream",
          "name": "stdout",
          "text": [
            "\"!~$$*&!@\n",
            "[34, 33, 126, 36, 36, 42, 38, 33, 64]\n"
          ]
        }
      ]
    },
    {
      "cell_type": "code",
      "source": [
        "#4\n",
        "\n",
        "symbols = '\"!~$$*&!@'\n",
        "beyond_ascii = [ord(s) for s in symbols if ord(s) > 32]\n",
        "\n",
        "print(beyond_ascii)"
      ],
      "metadata": {
        "colab": {
          "base_uri": "https://localhost:8080/"
        },
        "id": "s0zQYpmKPlA_",
        "outputId": "abc9bed7-6f38-4a71-8c98-57eb085683e0"
      },
      "execution_count": 8,
      "outputs": [
        {
          "output_type": "stream",
          "name": "stdout",
          "text": [
            "[34, 33, 126, 36, 36, 42, 38, 33, 64]\n"
          ]
        }
      ]
    },
    {
      "cell_type": "code",
      "source": [
        "#5\n",
        "\n",
        "symbols = '\"!~$$*&!@'\n",
        "beyond_ascii = list(filter(lambda c: c>64, map(ord, symbols)))\n",
        "\n",
        "print(beyond_ascii, '\\n')\n",
        "\n",
        "print(f\"Map function:\\n>>> {map(ord, symbols)}\")\n",
        "print(f\"List after map:\\n>>> {list(map(ord, symbols))}\")"
      ],
      "metadata": {
        "colab": {
          "base_uri": "https://localhost:8080/"
        },
        "id": "sQ_Eqr6wPzb2",
        "outputId": "4be4b2ec-521f-4e03-c8a9-9c8a97b4651c"
      },
      "execution_count": 9,
      "outputs": [
        {
          "output_type": "stream",
          "name": "stdout",
          "text": [
            "[126] \n",
            "\n",
            "Map function:\n",
            ">>> <map object at 0x7c7505c76830>\n",
            "List after map:\n",
            ">>> [34, 33, 126, 36, 36, 42, 38, 33, 64]\n"
          ]
        }
      ]
    },
    {
      "cell_type": "code",
      "source": [
        "#6\n",
        "\n",
        "colors = ['black', 'white']\n",
        "sizes = ['S', 'M', 'L']\n",
        "tshirts = [(color, size) for color in colors for size in sizes]\n",
        "\n",
        "print(tshirts)\n",
        "\n",
        "for color in colors:\n",
        "  for size in sizes:\n",
        "    print((color, size))"
      ],
      "metadata": {
        "colab": {
          "base_uri": "https://localhost:8080/"
        },
        "id": "2e-48TABQUDY",
        "outputId": "ef041275-41f2-4753-e462-adbdef567854"
      },
      "execution_count": 10,
      "outputs": [
        {
          "output_type": "stream",
          "name": "stdout",
          "text": [
            "[('black', 'S'), ('black', 'M'), ('black', 'L'), ('white', 'S'), ('white', 'M'), ('white', 'L')]\n",
            "('black', 'S')\n",
            "('black', 'M')\n",
            "('black', 'L')\n",
            "('white', 'S')\n",
            "('white', 'M')\n",
            "('white', 'L')\n"
          ]
        }
      ]
    },
    {
      "cell_type": "code",
      "source": [
        "#7\n",
        "\n",
        "symbols = \"!#^&&#\"\n",
        "ord_s = tuple(ord(s) for s in symbols if ord(s))\n",
        "\n",
        "print(ord_s)"
      ],
      "metadata": {
        "colab": {
          "base_uri": "https://localhost:8080/"
        },
        "id": "1r7LNL9BQsN3",
        "outputId": "c8772824-8b84-4ca3-86fa-84fcaa94fcb3"
      },
      "execution_count": 11,
      "outputs": [
        {
          "output_type": "stream",
          "name": "stdout",
          "text": [
            "(33, 35, 94, 38, 38, 35)\n"
          ]
        }
      ]
    },
    {
      "cell_type": "code",
      "source": [
        "#8\n",
        "\n",
        "colors = ['black', 'white']\n",
        "sizes = ['S', 'M', 'L']\n",
        "\n",
        "for tshirts in ('{} {}'. format(c, s) for s in sizes for c in colors):\n",
        "  print(tshirts)"
      ],
      "metadata": {
        "colab": {
          "base_uri": "https://localhost:8080/"
        },
        "id": "RKe6aNe9Q5EV",
        "outputId": "91465c13-80cf-475f-b492-bd341d739cbd"
      },
      "execution_count": 13,
      "outputs": [
        {
          "output_type": "stream",
          "name": "stdout",
          "text": [
            "black S\n",
            "white S\n",
            "black M\n",
            "white M\n",
            "black L\n",
            "white L\n"
          ]
        }
      ]
    },
    {
      "cell_type": "code",
      "source": [
        "#9\n",
        "\n",
        "lax_coordinates = (33.9425, -118.408056)\n",
        "city, year, pop, chg, area = ('Tokyo', 2003, 32450, 0.66, 8014)\n",
        "traveler_ids = [('USA', '31195855'),\n",
        "                ('BRA', 'CE342567'),\n",
        "                ('ESP', 'XDA205856')]\n",
        "\n",
        "for passport in sorted(traveler_ids):\n",
        "  print('%s/%s' % passport)\n",
        "  print('{}/{}'.format(passport[0], passport[1]))\n",
        "  print(f'{passport[0]}/{passport[1]}')"
      ],
      "metadata": {
        "colab": {
          "base_uri": "https://localhost:8080/"
        },
        "id": "HtHIXU3aRMjm",
        "outputId": "f85ed117-cb2b-46f0-e089-70cfecde1e49"
      },
      "execution_count": 14,
      "outputs": [
        {
          "output_type": "stream",
          "name": "stdout",
          "text": [
            "BRA/CE342567\n",
            "BRA/CE342567\n",
            "BRA/CE342567\n",
            "ESP/XDA205856\n",
            "ESP/XDA205856\n",
            "ESP/XDA205856\n",
            "USA/31195855\n",
            "USA/31195855\n",
            "USA/31195855\n"
          ]
        }
      ]
    },
    {
      "cell_type": "code",
      "source": [
        "#10\n",
        "\n",
        "for country, _ in traveler_ids:\n",
        "  print(country)"
      ],
      "metadata": {
        "colab": {
          "base_uri": "https://localhost:8080/"
        },
        "id": "KdlXLWI1SbAT",
        "outputId": "906d747f-435f-4951-a441-a19c8fe5c41a"
      },
      "execution_count": 15,
      "outputs": [
        {
          "output_type": "stream",
          "name": "stdout",
          "text": [
            "USA\n",
            "BRA\n",
            "ESP\n"
          ]
        }
      ]
    },
    {
      "cell_type": "code",
      "source": [
        "#11\n",
        "\n",
        "lax_coordinates = (33.9425, -118.408056)\n",
        "latitude, longtitude = lax_coordinates\n",
        "print(latitude)\n",
        "print(longtitude)"
      ],
      "metadata": {
        "colab": {
          "base_uri": "https://localhost:8080/"
        },
        "id": "frTgEHKMSiE6",
        "outputId": "9d544620-33dc-4c7f-ebeb-8064a2d8dd78"
      },
      "execution_count": 16,
      "outputs": [
        {
          "output_type": "stream",
          "name": "stdout",
          "text": [
            "33.9425\n",
            "-118.408056\n"
          ]
        }
      ]
    },
    {
      "cell_type": "code",
      "source": [
        "#12\n",
        "\n",
        "a = 10; b = 20\n",
        "b, a = a, b\n",
        "print(a, b)"
      ],
      "metadata": {
        "colab": {
          "base_uri": "https://localhost:8080/"
        },
        "id": "y3tUw18XSxYb",
        "outputId": "de953cea-b55a-41ae-f072-102f65bfde29"
      },
      "execution_count": 17,
      "outputs": [
        {
          "output_type": "stream",
          "name": "stdout",
          "text": [
            "20 10\n"
          ]
        }
      ]
    },
    {
      "cell_type": "code",
      "source": [
        "#13-1\n",
        "\n",
        "divmod(20, 8)"
      ],
      "metadata": {
        "colab": {
          "base_uri": "https://localhost:8080/"
        },
        "id": "oH106cf2S2ji",
        "outputId": "c335c98c-c6e4-493c-cea1-2a9aa4dd261a"
      },
      "execution_count": 21,
      "outputs": [
        {
          "output_type": "execute_result",
          "data": {
            "text/plain": [
              "(2, 4)"
            ]
          },
          "metadata": {},
          "execution_count": 21
        }
      ]
    },
    {
      "cell_type": "code",
      "source": [
        "#13-2\n",
        "\n",
        "t = (20, 8)\n",
        "divmod(*t)"
      ],
      "metadata": {
        "colab": {
          "base_uri": "https://localhost:8080/"
        },
        "id": "iURe7crSTHJy",
        "outputId": "c3bb1626-7840-474a-cf64-05615c66d530"
      },
      "execution_count": 22,
      "outputs": [
        {
          "output_type": "execute_result",
          "data": {
            "text/plain": [
              "(2, 4)"
            ]
          },
          "metadata": {},
          "execution_count": 22
        }
      ]
    },
    {
      "cell_type": "code",
      "source": [
        "#13-3\n",
        "\n",
        "quotient, remainder = divmod(*t)\n",
        "quotient, remainder"
      ],
      "metadata": {
        "colab": {
          "base_uri": "https://localhost:8080/"
        },
        "id": "eDUAC0WATLkY",
        "outputId": "e7b032aa-0837-491d-e723-dde958bccb61"
      },
      "execution_count": 23,
      "outputs": [
        {
          "output_type": "execute_result",
          "data": {
            "text/plain": [
              "(2, 4)"
            ]
          },
          "metadata": {},
          "execution_count": 23
        }
      ]
    },
    {
      "cell_type": "code",
      "source": [
        "#14\n",
        "\n",
        "import os\n",
        "_, filename = os.path.split('/home/luciano/.ssh/idrsa.pub')\n",
        "filename"
      ],
      "metadata": {
        "colab": {
          "base_uri": "https://localhost:8080/",
          "height": 35
        },
        "id": "Xd-cpKkbTStE",
        "outputId": "96cfe89d-87b6-46bc-88c1-777be64886d7"
      },
      "execution_count": 26,
      "outputs": [
        {
          "output_type": "execute_result",
          "data": {
            "text/plain": [
              "'idrsa.pub'"
            ],
            "application/vnd.google.colaboratory.intrinsic+json": {
              "type": "string"
            }
          },
          "metadata": {},
          "execution_count": 26
        }
      ]
    },
    {
      "cell_type": "code",
      "source": [
        "#15-1\n",
        "\n",
        "a, b, *rest = range(5)\n",
        "a, b, rest"
      ],
      "metadata": {
        "colab": {
          "base_uri": "https://localhost:8080/"
        },
        "id": "IUwqbREmTpB_",
        "outputId": "c9e1319b-8470-432c-9dfd-2a12726ee92d"
      },
      "execution_count": 28,
      "outputs": [
        {
          "output_type": "execute_result",
          "data": {
            "text/plain": [
              "(0, 1, [2, 3, 4])"
            ]
          },
          "metadata": {},
          "execution_count": 28
        }
      ]
    },
    {
      "cell_type": "code",
      "source": [
        "#15-2\n",
        "\n",
        "a, b, *rest = range(3)\n",
        "a, b, rest"
      ],
      "metadata": {
        "colab": {
          "base_uri": "https://localhost:8080/"
        },
        "id": "GgECoZUVTyAP",
        "outputId": "0b075afd-ef66-426c-b7a1-ded1f20386a3"
      },
      "execution_count": 29,
      "outputs": [
        {
          "output_type": "execute_result",
          "data": {
            "text/plain": [
              "(0, 1, [2])"
            ]
          },
          "metadata": {},
          "execution_count": 29
        }
      ]
    },
    {
      "cell_type": "code",
      "source": [
        "#15-3\n",
        "\n",
        "a, b, *rest = range(2)\n",
        "a, b, rest"
      ],
      "metadata": {
        "colab": {
          "base_uri": "https://localhost:8080/"
        },
        "id": "gb2ymaJdT69J",
        "outputId": "593615a4-bd11-4512-9424-bcb59b7c4b1a"
      },
      "execution_count": 30,
      "outputs": [
        {
          "output_type": "execute_result",
          "data": {
            "text/plain": [
              "(0, 1, [])"
            ]
          },
          "metadata": {},
          "execution_count": 30
        }
      ]
    },
    {
      "cell_type": "code",
      "source": [
        "#16-1\n",
        "a, *body, c, d = range(5)\n",
        "a, body, c, d"
      ],
      "metadata": {
        "colab": {
          "base_uri": "https://localhost:8080/"
        },
        "id": "1mAWY_zCT-xH",
        "outputId": "c42350b3-d43d-430b-bb44-3870fbe319a1"
      },
      "execution_count": 31,
      "outputs": [
        {
          "output_type": "execute_result",
          "data": {
            "text/plain": [
              "(0, [1, 2], 3, 4)"
            ]
          },
          "metadata": {},
          "execution_count": 31
        }
      ]
    },
    {
      "cell_type": "code",
      "source": [
        "#16-2\n",
        "*head, b, c, d = range(5)\n",
        "head, b, c, d"
      ],
      "metadata": {
        "colab": {
          "base_uri": "https://localhost:8080/"
        },
        "id": "7aYYxoZmUF2l",
        "outputId": "3c183173-6e47-4be7-e2f4-0ce81d2f08c7"
      },
      "execution_count": 33,
      "outputs": [
        {
          "output_type": "execute_result",
          "data": {
            "text/plain": [
              "([0, 1], 2, 3, 4)"
            ]
          },
          "metadata": {},
          "execution_count": 33
        }
      ]
    },
    {
      "cell_type": "code",
      "source": [
        "#17\n",
        "metro_areas = [\n",
        "    (\"Tokyo\", \"JP\", 36.933, (35, 139)),\n",
        "    (\"Delhi NCR\", \"IN\", 21, (28, 77)),\n",
        "    (\"Mexico City\", \"Mx\", 20, (19, -99)),\n",
        "    (\"New York_Newark\", \"US\", 20, (40, -74)),\n",
        "    (\"Sao Paulo\", \"BR\", 19, (-23, -46))\n",
        "]\n",
        "\n",
        "print(\"{:15}  | {:^9} | {:^9}\".format('', 'lat.', 'long.'))\n",
        "fmt = '{:15}  | {:9.4f} |{:9.4f}'\n",
        "\n",
        "for name, cc, pop, (lat, longi) in metro_areas:\n",
        "  if longi <= 0:\n",
        "    print(fmt.format(name, lat, longi))"
      ],
      "metadata": {
        "colab": {
          "base_uri": "https://localhost:8080/"
        },
        "id": "O1dKhYk6UNCU",
        "outputId": "e6cb5b2e-93c7-4351-b9bf-1ed0bc9854f8"
      },
      "execution_count": 34,
      "outputs": [
        {
          "output_type": "stream",
          "name": "stdout",
          "text": [
            "                 |   lat.    |   long.  \n",
            "Mexico City      |   19.0000 | -99.0000\n",
            "New York_Newark  |   40.0000 | -74.0000\n",
            "Sao Paulo        |  -23.0000 | -46.0000\n"
          ]
        }
      ]
    },
    {
      "cell_type": "code",
      "source": [
        "#18-1\n",
        "from collections import namedtuple\n",
        "City = namedtuple('City', 'name country population coordinates')\n",
        "tokyo = City('Tokyo', 'JP', 36.933, (35.689, 139.691))\n",
        "\n",
        "tokyo\n"
      ],
      "metadata": {
        "colab": {
          "base_uri": "https://localhost:8080/"
        },
        "id": "5XQiuJ0CVnKK",
        "outputId": "3565b3c3-9dcb-4fe0-e48a-67325c80a4af"
      },
      "execution_count": 42,
      "outputs": [
        {
          "output_type": "execute_result",
          "data": {
            "text/plain": [
              "City(name='Tokyo', country='JP', population=36.933, coordinates=(35.689, 139.691))"
            ]
          },
          "metadata": {},
          "execution_count": 42
        }
      ]
    },
    {
      "cell_type": "code",
      "source": [
        "#18-2\n",
        "tokyo.population"
      ],
      "metadata": {
        "colab": {
          "base_uri": "https://localhost:8080/"
        },
        "id": "YF2rthlqWGrd",
        "outputId": "78d0d3a0-dfe6-4233-97e9-1864842c3fa3"
      },
      "execution_count": 44,
      "outputs": [
        {
          "output_type": "execute_result",
          "data": {
            "text/plain": [
              "36.933"
            ]
          },
          "metadata": {},
          "execution_count": 44
        }
      ]
    },
    {
      "cell_type": "code",
      "source": [
        "#18-3\n",
        "tokyo.coordinates"
      ],
      "metadata": {
        "colab": {
          "base_uri": "https://localhost:8080/"
        },
        "id": "ZozPYS61WVfi",
        "outputId": "d99ba1d0-d48d-48c9-cf04-fba258493ab1"
      },
      "execution_count": 45,
      "outputs": [
        {
          "output_type": "execute_result",
          "data": {
            "text/plain": [
              "(35.689, 139.691)"
            ]
          },
          "metadata": {},
          "execution_count": 45
        }
      ]
    },
    {
      "cell_type": "code",
      "source": [
        "#18-4\n",
        "tokyo[1]"
      ],
      "metadata": {
        "colab": {
          "base_uri": "https://localhost:8080/",
          "height": 35
        },
        "id": "QtW-6-9OWWrK",
        "outputId": "b2bd1dc8-65dd-42a2-bbda-bd6ac06e2d23"
      },
      "execution_count": 46,
      "outputs": [
        {
          "output_type": "execute_result",
          "data": {
            "text/plain": [
              "'JP'"
            ],
            "application/vnd.google.colaboratory.intrinsic+json": {
              "type": "string"
            }
          },
          "metadata": {},
          "execution_count": 46
        }
      ]
    },
    {
      "cell_type": "code",
      "source": [
        "#19-1\n",
        "City._fields"
      ],
      "metadata": {
        "colab": {
          "base_uri": "https://localhost:8080/"
        },
        "id": "dKcU3R0DWfMR",
        "outputId": "a9433567-fbe6-4475-a54c-7668de16f52b"
      },
      "execution_count": 49,
      "outputs": [
        {
          "output_type": "execute_result",
          "data": {
            "text/plain": [
              "('name', 'country', 'population', 'coordinates')"
            ]
          },
          "metadata": {},
          "execution_count": 49
        }
      ]
    },
    {
      "cell_type": "code",
      "source": [
        "#19-2\n",
        "LatLong = namedtuple('LatLong', 'lat long')\n",
        "delhi_data = ('delhi NCR', 'IN', 29.935, LatLong(28.613, 77.208))"
      ],
      "metadata": {
        "id": "8_KznhKdWnNG"
      },
      "execution_count": 50,
      "outputs": []
    },
    {
      "cell_type": "code",
      "source": [
        "#19-3\n",
        "delhi = City._make(delhi_data)\n",
        "delhi._asdict()"
      ],
      "metadata": {
        "colab": {
          "base_uri": "https://localhost:8080/"
        },
        "id": "5UU4Ai8EW99k",
        "outputId": "a88fa268-5394-4903-fb7c-323e2c915a77"
      },
      "execution_count": 51,
      "outputs": [
        {
          "output_type": "execute_result",
          "data": {
            "text/plain": [
              "{'name': 'delhi NCR',\n",
              " 'country': 'IN',\n",
              " 'population': 29.935,\n",
              " 'coordinates': LatLong(lat=28.613, long=77.208)}"
            ]
          },
          "metadata": {},
          "execution_count": 51
        }
      ]
    },
    {
      "cell_type": "code",
      "source": [
        "#19-4\n",
        "for key, value in delhi._asdict().items():\n",
        "  print(key + ':', value)"
      ],
      "metadata": {
        "colab": {
          "base_uri": "https://localhost:8080/"
        },
        "id": "VY7toJyFXF5h",
        "outputId": "77973db9-af02-4687-98ec-a9fdcbd79469"
      },
      "execution_count": 53,
      "outputs": [
        {
          "output_type": "stream",
          "name": "stdout",
          "text": [
            "name: delhi NCR\n",
            "country: IN\n",
            "population: 29.935\n",
            "coordinates: LatLong(lat=28.613, long=77.208)\n"
          ]
        }
      ]
    },
    {
      "cell_type": "code",
      "source": [
        "#20-1\n",
        "l = [10, 20, 30, 40, 50, 60]\n",
        "l[:2]"
      ],
      "metadata": {
        "colab": {
          "base_uri": "https://localhost:8080/"
        },
        "id": "Mp69TVyYXOBe",
        "outputId": "c3b43318-5c3d-4787-bc58-cd5a32ba7498"
      },
      "execution_count": 56,
      "outputs": [
        {
          "output_type": "execute_result",
          "data": {
            "text/plain": [
              "[10, 20]"
            ]
          },
          "metadata": {},
          "execution_count": 56
        }
      ]
    },
    {
      "cell_type": "code",
      "source": [
        "#20-2\n",
        "l[2:]"
      ],
      "metadata": {
        "colab": {
          "base_uri": "https://localhost:8080/"
        },
        "id": "GMlgn7ZNXbev",
        "outputId": "220f8465-259d-41c2-a2db-b08d0edfa3c9"
      },
      "execution_count": 57,
      "outputs": [
        {
          "output_type": "execute_result",
          "data": {
            "text/plain": [
              "[30, 40, 50, 60]"
            ]
          },
          "metadata": {},
          "execution_count": 57
        }
      ]
    },
    {
      "cell_type": "code",
      "source": [
        "#20-3\n",
        "l[:3]"
      ],
      "metadata": {
        "colab": {
          "base_uri": "https://localhost:8080/"
        },
        "id": "iLmBwQneXeUL",
        "outputId": "30686f87-1c9b-4e69-dd81-b9195abc2414"
      },
      "execution_count": 58,
      "outputs": [
        {
          "output_type": "execute_result",
          "data": {
            "text/plain": [
              "[10, 20, 30]"
            ]
          },
          "metadata": {},
          "execution_count": 58
        }
      ]
    },
    {
      "cell_type": "code",
      "source": [
        "#20-4\n",
        "l[3:]"
      ],
      "metadata": {
        "colab": {
          "base_uri": "https://localhost:8080/"
        },
        "id": "lGQfRSE5XiFk",
        "outputId": "eafbf2b7-5752-4a2f-84f1-77a55458398c"
      },
      "execution_count": 59,
      "outputs": [
        {
          "output_type": "execute_result",
          "data": {
            "text/plain": [
              "[40, 50, 60]"
            ]
          },
          "metadata": {},
          "execution_count": 59
        }
      ]
    },
    {
      "cell_type": "code",
      "source": [
        "#21\n",
        "invoice = \"\"\"\n",
        "0.....6..................25........33......40.......\n",
        "1909  Pimorni               $17.50    3      $52.50\n",
        "1489  6mm Tactile           $4.95     2      $9.90\n",
        "\"\"\"\n",
        "\n",
        "SKU  = slice(0, 6)\n",
        "DESCRIPTION = slice(6, 25)\n",
        "UNIT_PRICE = slice(25, 33)\n",
        "QUANTITY = slice(33, 40)\n",
        "ITEM_TOTAL = slice(40, None)\n",
        "\n",
        "line_items = invoice.split('\\n')[2:]\n",
        "\n",
        "for item in line_items:\n",
        "  print(item[UNIT_PRICE], item[DESCRIPTION])"
      ],
      "metadata": {
        "colab": {
          "base_uri": "https://localhost:8080/"
        },
        "id": "dmn3SC3MXj_8",
        "outputId": "187e0ac9-b759-4481-f17a-e7d6be37b7fc"
      },
      "execution_count": 60,
      "outputs": [
        {
          "output_type": "stream",
          "name": "stdout",
          "text": [
            "   $17.5 Pimorni            \n",
            "   $4.95 6mm Tactile        \n",
            " \n"
          ]
        }
      ]
    },
    {
      "cell_type": "code",
      "source": [
        "#22-1\n",
        "l = list(range(10))\n",
        "l"
      ],
      "metadata": {
        "colab": {
          "base_uri": "https://localhost:8080/"
        },
        "id": "bq_73XdUY3zs",
        "outputId": "02ae6096-942b-4115-d5ea-5b1769eb3c66"
      },
      "execution_count": 61,
      "outputs": [
        {
          "output_type": "execute_result",
          "data": {
            "text/plain": [
              "[0, 1, 2, 3, 4, 5, 6, 7, 8, 9]"
            ]
          },
          "metadata": {},
          "execution_count": 61
        }
      ]
    },
    {
      "cell_type": "code",
      "source": [
        "#22-2\n",
        "l[2:5] = [20, 30]\n",
        "l"
      ],
      "metadata": {
        "colab": {
          "base_uri": "https://localhost:8080/"
        },
        "id": "CYRbyG4pY9TL",
        "outputId": "3cae6d63-32fe-4d62-d405-634ee4238d71"
      },
      "execution_count": 62,
      "outputs": [
        {
          "output_type": "execute_result",
          "data": {
            "text/plain": [
              "[0, 1, 20, 30, 5, 6, 7, 8, 9]"
            ]
          },
          "metadata": {},
          "execution_count": 62
        }
      ]
    },
    {
      "cell_type": "code",
      "source": [
        "#22-3\n",
        "del l[5:7]\n",
        "l"
      ],
      "metadata": {
        "colab": {
          "base_uri": "https://localhost:8080/"
        },
        "id": "HbXf0NxBZBfs",
        "outputId": "cda7640d-2c2f-4a35-e66e-aef7d1e9cd9a"
      },
      "execution_count": 63,
      "outputs": [
        {
          "output_type": "execute_result",
          "data": {
            "text/plain": [
              "[0, 1, 20, 30, 5, 8, 9]"
            ]
          },
          "metadata": {},
          "execution_count": 63
        }
      ]
    },
    {
      "cell_type": "code",
      "source": [
        "#22-4\n",
        "l[3::2] = [11, 22]\n",
        "l"
      ],
      "metadata": {
        "colab": {
          "base_uri": "https://localhost:8080/"
        },
        "id": "fZ0FynI1ZFXg",
        "outputId": "933e29c1-d94f-4991-a556-7ad66b3fabc7"
      },
      "execution_count": 64,
      "outputs": [
        {
          "output_type": "execute_result",
          "data": {
            "text/plain": [
              "[0, 1, 20, 11, 5, 22, 9]"
            ]
          },
          "metadata": {},
          "execution_count": 64
        }
      ]
    },
    {
      "cell_type": "code",
      "source": [
        "#23\n",
        "l[2:5] = 100"
      ],
      "metadata": {
        "colab": {
          "base_uri": "https://localhost:8080/",
          "height": 166
        },
        "id": "q0_jCu1eZJ-I",
        "outputId": "e2b87dcc-e425-4f0f-a052-1e07c53abcd9"
      },
      "execution_count": 65,
      "outputs": [
        {
          "output_type": "error",
          "ename": "TypeError",
          "evalue": "must assign iterable to extended slice",
          "traceback": [
            "\u001b[0;31m---------------------------------------------------------------------------\u001b[0m",
            "\u001b[0;31mTypeError\u001b[0m                                 Traceback (most recent call last)",
            "\u001b[0;32m/tmp/ipython-input-3225918357.py\u001b[0m in \u001b[0;36m<cell line: 0>\u001b[0;34m()\u001b[0m\n\u001b[1;32m      1\u001b[0m \u001b[0;31m#23\u001b[0m\u001b[0;34m\u001b[0m\u001b[0;34m\u001b[0m\u001b[0m\n\u001b[0;32m----> 2\u001b[0;31m \u001b[0ml\u001b[0m\u001b[0;34m[\u001b[0m\u001b[0;36m2\u001b[0m\u001b[0;34m:\u001b[0m\u001b[0;36m5\u001b[0m\u001b[0;34m]\u001b[0m \u001b[0;34m=\u001b[0m \u001b[0;36m100\u001b[0m\u001b[0;34m\u001b[0m\u001b[0;34m\u001b[0m\u001b[0m\n\u001b[0m",
            "\u001b[0;31mTypeError\u001b[0m: must assign iterable to extended slice"
          ]
        }
      ]
    },
    {
      "cell_type": "code",
      "source": [
        "#24\n",
        "l[2:5] = [100]\n",
        "l"
      ],
      "metadata": {
        "colab": {
          "base_uri": "https://localhost:8080/"
        },
        "id": "iAKkVaVOZNPH",
        "outputId": "d0cf2de8-adf3-4a38-c3e1-451ad1704776"
      },
      "execution_count": 66,
      "outputs": [
        {
          "output_type": "execute_result",
          "data": {
            "text/plain": [
              "[0, 1, 100, 22, 9]"
            ]
          },
          "metadata": {},
          "execution_count": 66
        }
      ]
    },
    {
      "cell_type": "code",
      "source": [
        "#25-1\n",
        "l = [1, 2, 3]\n",
        "l*5"
      ],
      "metadata": {
        "colab": {
          "base_uri": "https://localhost:8080/"
        },
        "id": "bjI_W7jpZRm4",
        "outputId": "7bbbd36c-90ce-43f9-dbbd-f6fcc6f6c029"
      },
      "execution_count": 67,
      "outputs": [
        {
          "output_type": "execute_result",
          "data": {
            "text/plain": [
              "[1, 2, 3, 1, 2, 3, 1, 2, 3, 1, 2, 3, 1, 2, 3]"
            ]
          },
          "metadata": {},
          "execution_count": 67
        }
      ]
    },
    {
      "cell_type": "code",
      "source": [
        "#25-2\n",
        "5*'abcd'"
      ],
      "metadata": {
        "colab": {
          "base_uri": "https://localhost:8080/",
          "height": 35
        },
        "id": "SHtx5VWFZXeD",
        "outputId": "cd21ba1c-f454-4bea-fa5c-7a7326622715"
      },
      "execution_count": 68,
      "outputs": [
        {
          "output_type": "execute_result",
          "data": {
            "text/plain": [
              "'abcdabcdabcdabcdabcd'"
            ],
            "application/vnd.google.colaboratory.intrinsic+json": {
              "type": "string"
            }
          },
          "metadata": {},
          "execution_count": 68
        }
      ]
    },
    {
      "cell_type": "code",
      "source": [
        "#26-1\n",
        "board = [['_'] * 3 for i in range(3)]\n",
        "board"
      ],
      "metadata": {
        "colab": {
          "base_uri": "https://localhost:8080/"
        },
        "id": "B6zIKL7pZaic",
        "outputId": "c83f8407-bed1-40a9-e92a-a1d77f492c4e"
      },
      "execution_count": 69,
      "outputs": [
        {
          "output_type": "execute_result",
          "data": {
            "text/plain": [
              "[['_', '_', '_'], ['_', '_', '_'], ['_', '_', '_']]"
            ]
          },
          "metadata": {},
          "execution_count": 69
        }
      ]
    },
    {
      "cell_type": "code",
      "source": [
        "#26-2\n",
        "board[1][2] = 'X'\n",
        "board"
      ],
      "metadata": {
        "colab": {
          "base_uri": "https://localhost:8080/"
        },
        "id": "98m1myHpZi6f",
        "outputId": "fdb01a66-53a0-4881-e7d4-8006fe6e7cb5"
      },
      "execution_count": 70,
      "outputs": [
        {
          "output_type": "execute_result",
          "data": {
            "text/plain": [
              "[['_', '_', '_'], ['_', '_', 'X'], ['_', '_', '_']]"
            ]
          },
          "metadata": {},
          "execution_count": 70
        }
      ]
    },
    {
      "cell_type": "code",
      "source": [
        "#27-1\n",
        "weird_board = [['_'] * 3] * 3\n",
        "weird_board"
      ],
      "metadata": {
        "colab": {
          "base_uri": "https://localhost:8080/"
        },
        "id": "BF4IfBp6ZoK_",
        "outputId": "190f1da5-bfda-4f56-e438-b227ce66a388"
      },
      "execution_count": 71,
      "outputs": [
        {
          "output_type": "execute_result",
          "data": {
            "text/plain": [
              "[['_', '_', '_'], ['_', '_', '_'], ['_', '_', '_']]"
            ]
          },
          "metadata": {},
          "execution_count": 71
        }
      ]
    },
    {
      "cell_type": "code",
      "source": [
        "#27-2\n",
        "weird_board[1][2] = '0'\n",
        "weird_board"
      ],
      "metadata": {
        "colab": {
          "base_uri": "https://localhost:8080/"
        },
        "id": "u3Kz-jTxZw37",
        "outputId": "28a4a38c-a691-4e42-aaa6-8bdd679ddfa3"
      },
      "execution_count": 72,
      "outputs": [
        {
          "output_type": "execute_result",
          "data": {
            "text/plain": [
              "[['_', '_', '0'], ['_', '_', '0'], ['_', '_', '0']]"
            ]
          },
          "metadata": {},
          "execution_count": 72
        }
      ]
    },
    {
      "cell_type": "code",
      "source": [
        "#28\n",
        "row = ['_'] * 3\n",
        "board = []\n",
        "for i in range(3):\n",
        "  board.append(row)\n",
        "\n",
        "board[1][2] = 'X'\n",
        "\n",
        "board"
      ],
      "metadata": {
        "colab": {
          "base_uri": "https://localhost:8080/"
        },
        "id": "zzOLZyN-Z3HD",
        "outputId": "1ffc5062-9c90-4248-ce49-7a0dc221d5c8"
      },
      "execution_count": 73,
      "outputs": [
        {
          "output_type": "execute_result",
          "data": {
            "text/plain": [
              "[['_', '_', 'X'], ['_', '_', 'X'], ['_', '_', 'X']]"
            ]
          },
          "metadata": {},
          "execution_count": 73
        }
      ]
    },
    {
      "cell_type": "code",
      "source": [
        "#29\n",
        "board = []\n",
        "for i in range(3):\n",
        "  row = ['_'] * 3\n",
        "  board.append(row)\n",
        "\n",
        "print(board)\n",
        "\n",
        "board[2][0] = 'X'\n",
        "\n",
        "board"
      ],
      "metadata": {
        "colab": {
          "base_uri": "https://localhost:8080/"
        },
        "id": "CSmxAOqXaG_H",
        "outputId": "5d517362-4bee-4910-93f5-55087ab02c7c"
      },
      "execution_count": 74,
      "outputs": [
        {
          "output_type": "stream",
          "name": "stdout",
          "text": [
            "[['_', '_', '_'], ['_', '_', '_'], ['_', '_', '_']]\n"
          ]
        },
        {
          "output_type": "execute_result",
          "data": {
            "text/plain": [
              "[['_', '_', '_'], ['_', '_', '_'], ['X', '_', '_']]"
            ]
          },
          "metadata": {},
          "execution_count": 74
        }
      ]
    },
    {
      "cell_type": "code",
      "source": [
        "#30-1\n",
        "l = [1, 2, 3]\n",
        "id(l)"
      ],
      "metadata": {
        "colab": {
          "base_uri": "https://localhost:8080/"
        },
        "id": "XCQ2IfH7aYyS",
        "outputId": "87e8ab45-6d16-4db2-af39-96b312b327eb"
      },
      "execution_count": 76,
      "outputs": [
        {
          "output_type": "execute_result",
          "data": {
            "text/plain": [
              "136842036898816"
            ]
          },
          "metadata": {},
          "execution_count": 76
        }
      ]
    },
    {
      "cell_type": "code",
      "source": [
        "#30-2\n",
        "l *= 2\n",
        "l"
      ],
      "metadata": {
        "colab": {
          "base_uri": "https://localhost:8080/"
        },
        "id": "pff_cWBOafBP",
        "outputId": "976b3d35-ee49-45eb-e750-6cebb9a95ace"
      },
      "execution_count": 77,
      "outputs": [
        {
          "output_type": "execute_result",
          "data": {
            "text/plain": [
              "[1, 2, 3, 1, 2, 3]"
            ]
          },
          "metadata": {},
          "execution_count": 77
        }
      ]
    },
    {
      "cell_type": "code",
      "source": [
        "30-3\n",
        "id(l)"
      ],
      "metadata": {
        "colab": {
          "base_uri": "https://localhost:8080/"
        },
        "id": "0ehAxiIwakDO",
        "outputId": "f58bf7be-fb59-4846-caa4-c56d56690708"
      },
      "execution_count": 78,
      "outputs": [
        {
          "output_type": "execute_result",
          "data": {
            "text/plain": [
              "136842036898816"
            ]
          },
          "metadata": {},
          "execution_count": 78
        }
      ]
    },
    {
      "cell_type": "code",
      "source": [
        "#31-1\n",
        "t = (1, 2, 3)\n",
        "id(t)"
      ],
      "metadata": {
        "colab": {
          "base_uri": "https://localhost:8080/"
        },
        "id": "bP-ERdfUamA-",
        "outputId": "e334b76b-67e0-4206-d1c6-643badece851"
      },
      "execution_count": 79,
      "outputs": [
        {
          "output_type": "execute_result",
          "data": {
            "text/plain": [
              "136842037996736"
            ]
          },
          "metadata": {},
          "execution_count": 79
        }
      ]
    },
    {
      "cell_type": "code",
      "source": [
        "#30-2\n",
        "t *= 2\n",
        "id(t)"
      ],
      "metadata": {
        "colab": {
          "base_uri": "https://localhost:8080/"
        },
        "id": "4W0oVrH7appf",
        "outputId": "5bb0a4e9-7cc3-497f-c8c1-0cdfc49c8711"
      },
      "execution_count": 81,
      "outputs": [
        {
          "output_type": "execute_result",
          "data": {
            "text/plain": [
              "136842039964816"
            ]
          },
          "metadata": {},
          "execution_count": 81
        }
      ]
    },
    {
      "cell_type": "code",
      "source": [
        "#32\n",
        "t = (1, 2, [30, 40])\n",
        "print(t)\n",
        "\n",
        "t[2] += [50, 60]\n",
        "\n",
        "\"\"\"\n",
        "a. t는 (1, 2, [30, 40, 50, 60])이 된다.\n",
        "b. '튜플 객체는 항목 할당을 지원하지 않는다'는 메세지와 함께 TypeError가 발생한다.\n",
        "c. a와 b둘 다 틀리다.\n",
        "d. a와 b둘 다 맞다.\n",
        "\"\"\""
      ],
      "metadata": {
        "colab": {
          "base_uri": "https://localhost:8080/",
          "height": 239
        },
        "id": "eOOyOYUjasRS",
        "outputId": "333b78ef-7cec-4df5-bd31-73b66822cff4"
      },
      "execution_count": 82,
      "outputs": [
        {
          "output_type": "stream",
          "name": "stdout",
          "text": [
            "(1, 2, [30, 40])\n"
          ]
        },
        {
          "output_type": "error",
          "ename": "TypeError",
          "evalue": "'tuple' object does not support item assignment",
          "traceback": [
            "\u001b[0;31m---------------------------------------------------------------------------\u001b[0m",
            "\u001b[0;31mTypeError\u001b[0m                                 Traceback (most recent call last)",
            "\u001b[0;32m/tmp/ipython-input-138947506.py\u001b[0m in \u001b[0;36m<cell line: 0>\u001b[0;34m()\u001b[0m\n\u001b[1;32m      3\u001b[0m \u001b[0mprint\u001b[0m\u001b[0;34m(\u001b[0m\u001b[0mt\u001b[0m\u001b[0;34m)\u001b[0m\u001b[0;34m\u001b[0m\u001b[0;34m\u001b[0m\u001b[0m\n\u001b[1;32m      4\u001b[0m \u001b[0;34m\u001b[0m\u001b[0m\n\u001b[0;32m----> 5\u001b[0;31m \u001b[0mt\u001b[0m\u001b[0;34m[\u001b[0m\u001b[0;36m2\u001b[0m\u001b[0;34m]\u001b[0m \u001b[0;34m+=\u001b[0m \u001b[0;34m[\u001b[0m\u001b[0;36m50\u001b[0m\u001b[0;34m,\u001b[0m \u001b[0;36m60\u001b[0m\u001b[0;34m]\u001b[0m\u001b[0;34m\u001b[0m\u001b[0;34m\u001b[0m\u001b[0m\n\u001b[0m\u001b[1;32m      6\u001b[0m \u001b[0;34m\u001b[0m\u001b[0m\n\u001b[1;32m      7\u001b[0m \"\"\"\n",
            "\u001b[0;31mTypeError\u001b[0m: 'tuple' object does not support item assignment"
          ]
        }
      ]
    },
    {
      "cell_type": "code",
      "source": [
        "#33\n",
        "print(t)"
      ],
      "metadata": {
        "colab": {
          "base_uri": "https://localhost:8080/"
        },
        "id": "dieqv-KibSQq",
        "outputId": "5ca7c102-4365-448a-c560-e107e00596df"
      },
      "execution_count": 83,
      "outputs": [
        {
          "output_type": "stream",
          "name": "stdout",
          "text": [
            "(1, 2, [30, 40, 50, 60])\n"
          ]
        }
      ]
    },
    {
      "cell_type": "code",
      "source": [
        "#34-1\n",
        "fruits = ['grape', 'raspberry', 'apple', 'banana']\n",
        "sorted(fruits)"
      ],
      "metadata": {
        "colab": {
          "base_uri": "https://localhost:8080/"
        },
        "id": "dpUVm9K7bWfu",
        "outputId": "a0e8db5f-d52b-4c37-99b7-d5f511dce1ca"
      },
      "execution_count": 84,
      "outputs": [
        {
          "output_type": "execute_result",
          "data": {
            "text/plain": [
              "['apple', 'banana', 'grape', 'raspberry']"
            ]
          },
          "metadata": {},
          "execution_count": 84
        }
      ]
    },
    {
      "cell_type": "code",
      "source": [
        "#34-2\n",
        "fruits"
      ],
      "metadata": {
        "colab": {
          "base_uri": "https://localhost:8080/"
        },
        "id": "v27ElDXubo5C",
        "outputId": "9b50a72f-d4fa-45ed-b503-49ff7d268b2c"
      },
      "execution_count": 85,
      "outputs": [
        {
          "output_type": "execute_result",
          "data": {
            "text/plain": [
              "['grape', 'raspberry', 'apple', 'banana']"
            ]
          },
          "metadata": {},
          "execution_count": 85
        }
      ]
    },
    {
      "cell_type": "code",
      "source": [
        "#34-3\n",
        "sorted(fruits, reverse = True)"
      ],
      "metadata": {
        "colab": {
          "base_uri": "https://localhost:8080/"
        },
        "id": "4JwiODEnbrHK",
        "outputId": "baca5c77-e5ee-4e75-c685-064e82a2f511"
      },
      "execution_count": 86,
      "outputs": [
        {
          "output_type": "execute_result",
          "data": {
            "text/plain": [
              "['raspberry', 'grape', 'banana', 'apple']"
            ]
          },
          "metadata": {},
          "execution_count": 86
        }
      ]
    },
    {
      "cell_type": "code",
      "source": [
        "#34-4\n",
        "sorted(fruits, key=len)"
      ],
      "metadata": {
        "colab": {
          "base_uri": "https://localhost:8080/"
        },
        "id": "zLJwbbZ1bySh",
        "outputId": "dce7176e-1d1b-4ada-fc53-1eda161c0c5c"
      },
      "execution_count": 87,
      "outputs": [
        {
          "output_type": "execute_result",
          "data": {
            "text/plain": [
              "['grape', 'apple', 'banana', 'raspberry']"
            ]
          },
          "metadata": {},
          "execution_count": 87
        }
      ]
    },
    {
      "cell_type": "code",
      "source": [
        "#35-1\n",
        "sorted(fruits, key = len, reverse=True)"
      ],
      "metadata": {
        "colab": {
          "base_uri": "https://localhost:8080/"
        },
        "id": "l4BlSGypb4Is",
        "outputId": "3625c098-bbd3-4aec-9828-0e835d3b82ff"
      },
      "execution_count": 88,
      "outputs": [
        {
          "output_type": "execute_result",
          "data": {
            "text/plain": [
              "['raspberry', 'banana', 'grape', 'apple']"
            ]
          },
          "metadata": {},
          "execution_count": 88
        }
      ]
    },
    {
      "cell_type": "code",
      "source": [
        "#35-2\n",
        "fruits"
      ],
      "metadata": {
        "colab": {
          "base_uri": "https://localhost:8080/"
        },
        "id": "UlAyd90jcBx-",
        "outputId": "7073c703-64ba-4ee7-e0c5-85c72f2243a3"
      },
      "execution_count": 89,
      "outputs": [
        {
          "output_type": "execute_result",
          "data": {
            "text/plain": [
              "['grape', 'raspberry', 'apple', 'banana']"
            ]
          },
          "metadata": {},
          "execution_count": 89
        }
      ]
    },
    {
      "cell_type": "code",
      "source": [
        "#35-3\n",
        "fruits.sort()\n",
        "fruits"
      ],
      "metadata": {
        "colab": {
          "base_uri": "https://localhost:8080/"
        },
        "id": "FzYQ8lkycENf",
        "outputId": "324bd55e-3b6b-4d1b-9101-6ec239e2d095"
      },
      "execution_count": 90,
      "outputs": [
        {
          "output_type": "execute_result",
          "data": {
            "text/plain": [
              "['apple', 'banana', 'grape', 'raspberry']"
            ]
          },
          "metadata": {},
          "execution_count": 90
        }
      ]
    },
    {
      "cell_type": "code",
      "source": [
        "#36\n",
        "from array import array\n",
        "from random import random\n",
        "\n",
        "floats = array('d', (random() for _ in range(10**7)))\n",
        "floats[-1]"
      ],
      "metadata": {
        "colab": {
          "base_uri": "https://localhost:8080/"
        },
        "id": "sdvoaZ26cHQP",
        "outputId": "cfb6c6a0-d6bf-4d94-f570-902cf60b0221"
      },
      "execution_count": 91,
      "outputs": [
        {
          "output_type": "execute_result",
          "data": {
            "text/plain": [
              "0.49540635344507633"
            ]
          },
          "metadata": {},
          "execution_count": 91
        }
      ]
    },
    {
      "cell_type": "code",
      "source": [
        "#37-1\n",
        "with open('floats.bin', 'wb') as f:\n",
        "  floats.tofile(f)"
      ],
      "metadata": {
        "id": "VHdG9Kh6cZqi"
      },
      "execution_count": 92,
      "outputs": []
    },
    {
      "cell_type": "code",
      "source": [
        "#37-2\n",
        "floats2 = array('d')\n",
        "with open('floats.bin', 'rb') as f:\n",
        "  floats2.fromfile(f, 10**7)\n",
        "\n",
        "floats2[-1]"
      ],
      "metadata": {
        "colab": {
          "base_uri": "https://localhost:8080/"
        },
        "id": "tyfiGsO9cp99",
        "outputId": "c981d075-f044-4f82-ffe7-785f5b20f88e"
      },
      "execution_count": 93,
      "outputs": [
        {
          "output_type": "execute_result",
          "data": {
            "text/plain": [
              "0.49540635344507633"
            ]
          },
          "metadata": {},
          "execution_count": 93
        }
      ]
    },
    {
      "cell_type": "code",
      "source": [
        "#37-3\n",
        "floats == floats2"
      ],
      "metadata": {
        "colab": {
          "base_uri": "https://localhost:8080/"
        },
        "id": "e_NfG0Dzc3A_",
        "outputId": "e100c34b-9199-4b09-b09e-a5081e522326"
      },
      "execution_count": 94,
      "outputs": [
        {
          "output_type": "execute_result",
          "data": {
            "text/plain": [
              "True"
            ]
          },
          "metadata": {},
          "execution_count": 94
        }
      ]
    },
    {
      "cell_type": "code",
      "source": [
        "#38-1\n",
        "import array\n",
        "numbers = array.array('h', [-2, -1, 0, 1, 2])\n",
        "memv = memoryview(numbers)\n",
        "len(memv)"
      ],
      "metadata": {
        "colab": {
          "base_uri": "https://localhost:8080/"
        },
        "id": "K9P-Po5Ac7Of",
        "outputId": "ceab54b2-dc27-49df-afcf-9c363797e3f0"
      },
      "execution_count": 96,
      "outputs": [
        {
          "output_type": "execute_result",
          "data": {
            "text/plain": [
              "5"
            ]
          },
          "metadata": {},
          "execution_count": 96
        }
      ]
    },
    {
      "cell_type": "code",
      "source": [
        "#38-2\n",
        "memv[0]"
      ],
      "metadata": {
        "colab": {
          "base_uri": "https://localhost:8080/"
        },
        "id": "LRSjMWs6dKBi",
        "outputId": "924570b2-7d6b-4328-a6b2-67cb176ec219"
      },
      "execution_count": 98,
      "outputs": [
        {
          "output_type": "execute_result",
          "data": {
            "text/plain": [
              "-2"
            ]
          },
          "metadata": {},
          "execution_count": 98
        }
      ]
    },
    {
      "cell_type": "code",
      "source": [
        "#38-3\n",
        "memv_oct = memv.cast('B')\n",
        "memv_oct.tolist()\n"
      ],
      "metadata": {
        "colab": {
          "base_uri": "https://localhost:8080/"
        },
        "id": "Eb0HtQlrdL9V",
        "outputId": "b363da5e-663c-4fef-f0df-6da255ae98ee"
      },
      "execution_count": 101,
      "outputs": [
        {
          "output_type": "execute_result",
          "data": {
            "text/plain": [
              "[254, 255, 255, 255, 0, 0, 1, 0, 2, 0]"
            ]
          },
          "metadata": {},
          "execution_count": 101
        }
      ]
    },
    {
      "cell_type": "code",
      "source": [
        "#38-4\n",
        "memv_oct[5] = 4\n",
        "numbers"
      ],
      "metadata": {
        "colab": {
          "base_uri": "https://localhost:8080/"
        },
        "id": "IXknrQ63dRcN",
        "outputId": "26b58f8f-972c-4894-d985-a81272aeca52"
      },
      "execution_count": 102,
      "outputs": [
        {
          "output_type": "execute_result",
          "data": {
            "text/plain": [
              "array('h', [-2, -1, 1024, 1, 2])"
            ]
          },
          "metadata": {},
          "execution_count": 102
        }
      ]
    },
    {
      "cell_type": "code",
      "source": [
        "#39-1\n",
        "import numpy\n",
        "a = numpy.arange(12)\n",
        "a"
      ],
      "metadata": {
        "colab": {
          "base_uri": "https://localhost:8080/"
        },
        "id": "jeuQaGsNdckf",
        "outputId": "e9879d5f-73b1-45c5-f5e9-9b63d5890671"
      },
      "execution_count": 104,
      "outputs": [
        {
          "output_type": "execute_result",
          "data": {
            "text/plain": [
              "array([ 0,  1,  2,  3,  4,  5,  6,  7,  8,  9, 10, 11])"
            ]
          },
          "metadata": {},
          "execution_count": 104
        }
      ]
    },
    {
      "cell_type": "code",
      "source": [
        "#39-2\n",
        "type(a)"
      ],
      "metadata": {
        "colab": {
          "base_uri": "https://localhost:8080/"
        },
        "id": "C2_nlJrNdlKY",
        "outputId": "0e4d1f7f-a0b3-49e0-ea5f-0f49ef20c864"
      },
      "execution_count": 105,
      "outputs": [
        {
          "output_type": "execute_result",
          "data": {
            "text/plain": [
              "numpy.ndarray"
            ]
          },
          "metadata": {},
          "execution_count": 105
        }
      ]
    },
    {
      "cell_type": "code",
      "source": [
        "#40-1\n",
        "a.shape"
      ],
      "metadata": {
        "colab": {
          "base_uri": "https://localhost:8080/"
        },
        "id": "yZxalM1Qdov6",
        "outputId": "cb099ead-6ab6-4e11-9c8b-07e7165ba819"
      },
      "execution_count": 106,
      "outputs": [
        {
          "output_type": "execute_result",
          "data": {
            "text/plain": [
              "(12,)"
            ]
          },
          "metadata": {},
          "execution_count": 106
        }
      ]
    },
    {
      "cell_type": "code",
      "source": [
        "#40-2\n",
        "a.shape = 3, 4\n",
        "a"
      ],
      "metadata": {
        "colab": {
          "base_uri": "https://localhost:8080/"
        },
        "id": "BP4besAzds2y",
        "outputId": "0a0e4fbf-ed42-410c-9a8a-6f0418ba48f2"
      },
      "execution_count": 107,
      "outputs": [
        {
          "output_type": "execute_result",
          "data": {
            "text/plain": [
              "array([[ 0,  1,  2,  3],\n",
              "       [ 4,  5,  6,  7],\n",
              "       [ 8,  9, 10, 11]])"
            ]
          },
          "metadata": {},
          "execution_count": 107
        }
      ]
    },
    {
      "cell_type": "code",
      "source": [
        "#41-1\n",
        "a[2]"
      ],
      "metadata": {
        "colab": {
          "base_uri": "https://localhost:8080/"
        },
        "id": "o5UW9HG5dwbi",
        "outputId": "01890eb8-d238-4e07-abf3-499dac82db58"
      },
      "execution_count": 108,
      "outputs": [
        {
          "output_type": "execute_result",
          "data": {
            "text/plain": [
              "array([ 8,  9, 10, 11])"
            ]
          },
          "metadata": {},
          "execution_count": 108
        }
      ]
    },
    {
      "cell_type": "code",
      "source": [
        "#41-2\n",
        "a[2, 1]"
      ],
      "metadata": {
        "colab": {
          "base_uri": "https://localhost:8080/"
        },
        "id": "zDS0ezq7d1Ey",
        "outputId": "f8173a9a-4f89-4186-a841-cd3ab2931acb"
      },
      "execution_count": 110,
      "outputs": [
        {
          "output_type": "execute_result",
          "data": {
            "text/plain": [
              "np.int64(9)"
            ]
          },
          "metadata": {},
          "execution_count": 110
        }
      ]
    },
    {
      "cell_type": "code",
      "source": [
        "#41-3\n",
        "a[:, 1]"
      ],
      "metadata": {
        "colab": {
          "base_uri": "https://localhost:8080/"
        },
        "id": "Ef59KZ8zd1sS",
        "outputId": "839cdc9d-9448-472e-dda5-dbd302465b1e"
      },
      "execution_count": 111,
      "outputs": [
        {
          "output_type": "execute_result",
          "data": {
            "text/plain": [
              "array([1, 5, 9])"
            ]
          },
          "metadata": {},
          "execution_count": 111
        }
      ]
    },
    {
      "cell_type": "code",
      "source": [
        "#42\n",
        "a.transpose()"
      ],
      "metadata": {
        "colab": {
          "base_uri": "https://localhost:8080/"
        },
        "id": "UNFljix6d6y1",
        "outputId": "c3e034c6-eff2-4dd2-8a6f-683d6d6d1de4"
      },
      "execution_count": 112,
      "outputs": [
        {
          "output_type": "execute_result",
          "data": {
            "text/plain": [
              "array([[ 0,  4,  8],\n",
              "       [ 1,  5,  9],\n",
              "       [ 2,  6, 10],\n",
              "       [ 3,  7, 11]])"
            ]
          },
          "metadata": {},
          "execution_count": 112
        }
      ]
    }
  ]
}